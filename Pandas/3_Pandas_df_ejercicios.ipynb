{
 "cells": [
  {
   "cell_type": "code",
   "execution_count": null,
   "metadata": {},
   "outputs": [],
   "source": [
    "#Ejercicios Pandas DataFrames 02"
   ]
  },
  {
   "cell_type": "code",
   "execution_count": null,
   "metadata": {},
   "outputs": [],
   "source": [
    "#Carga el dataset de vuelos \"flights14.csv\""
   ]
  },
  {
   "cell_type": "code",
   "execution_count": null,
   "metadata": {},
   "outputs": [],
   "source": [
    "# 1.escribe un programa Pandas para dividir los datos basados en origen u destino. \n",
    "# Muestra cada grupo y el número de elementos por grupo"
   ]
  },
  {
   "cell_type": "code",
   "execution_count": null,
   "metadata": {},
   "outputs": [],
   "source": [
    "# 2.Escribe un programa Pandas para calcula la media, desviación estándar, \n",
    "# min y max del retraso total de cada orgige-destino."
   ]
  },
  {
   "cell_type": "code",
   "execution_count": null,
   "metadata": {},
   "outputs": [],
   "source": [
    "# 3.Escribe un programa Pandas para dividir un conjunto de datos y agruparlos por dos columnas, \n",
    "# y luego ordenar los resultados agregados dentro de los grupos.\n",
    "# En el siguiente conjunto de datos de vuelos, agrupar \"date\" (fecha completa) y \"carrier\". \n",
    "# Luego ordenar la suma de 'total_delay' dentro de los grupos."
   ]
  },
  {
   "cell_type": "code",
   "execution_count": null,
   "metadata": {},
   "outputs": [],
   "source": [
    "# 4.Escribe un programa Pandas para contar el múmero de retrasos de salida por mes y origen."
   ]
  },
  {
   "cell_type": "code",
   "execution_count": null,
   "metadata": {},
   "outputs": [],
   "source": [
    "# 5.Escribe un programa Pandas para cargar los datos de productos y ventas del archivo FoodMarket.xlsx y mézclalos en un solo dataframe."
   ]
  },
  {
   "cell_type": "code",
   "execution_count": null,
   "metadata": {},
   "outputs": [],
   "source": [
    "#6.Escribe un programa Pandas para extraer información sobre el número de compras totales \n",
    "# y el monto total por nombre de producto y año. cambios"
   ]
  }
 ],
 "metadata": {
  "language_info": {
   "name": "python"
  }
 },
 "nbformat": 4,
 "nbformat_minor": 2
}
