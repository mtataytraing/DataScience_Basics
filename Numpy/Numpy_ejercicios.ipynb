{
 "cells": [
  {
   "cell_type": "code",
   "execution_count": 24,
   "metadata": {},
   "outputs": [],
   "source": [
    "#numpy ejercicios"
   ]
  },
  {
   "cell_type": "code",
   "execution_count": 25,
   "metadata": {},
   "outputs": [],
   "source": [
    "import numpy as np"
   ]
  },
  {
   "cell_type": "code",
   "execution_count": 26,
   "metadata": {},
   "outputs": [],
   "source": [
    "#Ejercicio 1\n",
    "#Crea arrays de 1, 2 y 3 dimensiones. Las longitudes deben ser las siguientes, respectivamente: 6, 3 x 2 y 2 x 3 x 4"
   ]
  },
  {
   "cell_type": "code",
   "execution_count": 27,
   "metadata": {},
   "outputs": [
    {
     "name": "stdout",
     "output_type": "stream",
     "text": [
      "[0.93469833 0.2541955  0.41349184 0.64824265 0.29251753 0.80123848]\n",
      "(6,)\n",
      "1\n"
     ]
    }
   ],
   "source": [
    "arr1=np.array(np.random.random(6))\n",
    "print(arr1)\n",
    "print(arr1.shape)\n",
    "print(arr1.ndim)\n"
   ]
  },
  {
   "cell_type": "code",
   "execution_count": 28,
   "metadata": {},
   "outputs": [
    {
     "name": "stdout",
     "output_type": "stream",
     "text": [
      "[[0.72047123 0.17383896 0.29061318]\n",
      " [0.34496983 0.31833497 0.45919008]]\n",
      "(2, 3)\n",
      "2\n"
     ]
    }
   ],
   "source": [
    "arr2=np.array(np.random.random([2,3]))\n",
    "print(arr2)\n",
    "print(arr2.shape)\n",
    "print(arr2.ndim)"
   ]
  },
  {
   "cell_type": "code",
   "execution_count": 29,
   "metadata": {},
   "outputs": [
    {
     "name": "stdout",
     "output_type": "stream",
     "text": [
      "[[[0.45024908 0.7947633  0.94725932 0.43049917]\n",
      "  [0.57142332 0.59116934 0.53860052 0.92569177]]\n",
      "\n",
      " [[0.29850004 0.90835659 0.97271798 0.97501944]\n",
      "  [0.12179895 0.79751264 0.41345102 0.29358005]]\n",
      "\n",
      " [[0.27885566 0.03679043 0.88485598 0.33435016]\n",
      "  [0.62171236 0.69279292 0.71844745 0.3265067 ]]]\n",
      "(3, 2, 4)\n",
      "3\n"
     ]
    }
   ],
   "source": [
    "arr3=np.array(np.random.random([3,2,4]))\n",
    "print(arr3)\n",
    "print(arr3.shape)\n",
    "print(arr3.ndim)"
   ]
  },
  {
   "cell_type": "code",
   "execution_count": 30,
   "metadata": {},
   "outputs": [
    {
     "name": "stdout",
     "output_type": "stream",
     "text": [
      "[1 2 3 3 5 6]\n",
      "(6,)\n",
      "1\n"
     ]
    }
   ],
   "source": [
    "arr11=np.array([1,2,3,3,5,6])\n",
    "print(arr11)\n",
    "print(arr11.shape)\n",
    "print(arr11.ndim)"
   ]
  },
  {
   "cell_type": "code",
   "execution_count": 31,
   "metadata": {},
   "outputs": [
    {
     "name": "stdout",
     "output_type": "stream",
     "text": [
      "[[1 2 3]\n",
      " [5 6 7]]\n",
      "(2, 3)\n",
      "2\n"
     ]
    }
   ],
   "source": [
    "# 1 matriz de 2 filas y 3 columnas\n",
    "arr22=np.array([[1,2,3],[5,6,7]])\n",
    "print(arr22)\n",
    "print(arr22.shape)\n",
    "print(arr22.ndim)"
   ]
  },
  {
   "cell_type": "code",
   "execution_count": 32,
   "metadata": {},
   "outputs": [
    {
     "name": "stdout",
     "output_type": "stream",
     "text": [
      "[[[1 2 3 4]\n",
      "  [5 6 7 4]]\n",
      "\n",
      " [[1 2 3 5]\n",
      "  [5 6 7 7]]\n",
      "\n",
      " [[1 2 3 5]\n",
      "  [5 6 6 7]]]\n",
      "(3, 2, 4)\n",
      "3\n"
     ]
    }
   ],
   "source": [
    "# 3x2x4 3 matrices de 2 filas y y columnas\n",
    "arr22=np.array([[[1,2,3,4],[5,6,7,4]],[[1,2,3,5],[5,6,7,7]],[[1,2,3,5],[5,6,6,7]]])\n",
    "print(arr22)\n",
    "print(arr22.shape)\n",
    "print(arr22.ndim)"
   ]
  },
  {
   "cell_type": "code",
   "execution_count": 33,
   "metadata": {},
   "outputs": [],
   "source": [
    "# Ejercicio 2.\n",
    "#Crea una función que te haga un resumen estadístico básico de un array (cuartiles, mediana, media, varianza, etc) \n",
    "# si tiene una dimensión. Si tiene más de una, muestra un mensaje de alerta."
   ]
  },
  {
   "cell_type": "code",
   "execution_count": 34,
   "metadata": {},
   "outputs": [],
   "source": [
    "# con el return, se para; si pongo print sigue la función sea true o false\n",
    "def f(arr1):\n",
    "    if arr1.ndim>1:\n",
    "        return (\"El array debe ser de más de una dimensión\")\n",
    "    res={\n",
    "        'media':np.mean(arr1),\n",
    "        'desviación':np.std(arr1),\n",
    "        'percentil50':np.percentile(arr1,50)}\n",
    "    return res"
   ]
  },
  {
   "cell_type": "code",
   "execution_count": 35,
   "metadata": {},
   "outputs": [
    {
     "name": "stdout",
     "output_type": "stream",
     "text": [
      "{'media': 0.557397389030949, 'desviación': 0.2558869773638198, 'percentil50': 0.5308672426713765}\n"
     ]
    }
   ],
   "source": [
    "print(f(arr1))"
   ]
  },
  {
   "cell_type": "code",
   "execution_count": 36,
   "metadata": {},
   "outputs": [],
   "source": [
    "#Ejercicio 3.\n",
    "#Crea un array de 3 dimensiones parecido al que te doy a continuación, y sin ejecutar las instrucciones siguientes,\n",
    "# intenta razonar qué números devolverán (si funcionan, claro)"
   ]
  },
  {
   "cell_type": "code",
   "execution_count": 37,
   "metadata": {},
   "outputs": [
    {
     "data": {
      "text/plain": [
       "array([[[ 1,  2,  3],\n",
       "        [ 4,  5,  6]],\n",
       "\n",
       "       [[ 7,  8,  9],\n",
       "        [10, 11, 12]],\n",
       "\n",
       "       [[13, 14, 15],\n",
       "        [16, 17, 18]],\n",
       "\n",
       "       [[19, 20, 21],\n",
       "        [22, 23, 24]]])"
      ]
     },
     "execution_count": 37,
     "metadata": {},
     "output_type": "execute_result"
    }
   ],
   "source": [
    "arr = np.array([[[1, 2, 3], [4, 5, 6]], [[7, 8, 9], [10, 11, 12]], [[13, 14, 15],[16, 17, 18]], [[19, 20, 21],[22, 23, 24]] ])\n",
    "arr\n",
    "\n",
    "#4x2x3\n"
   ]
  },
  {
   "cell_type": "code",
   "execution_count": 38,
   "metadata": {},
   "outputs": [
    {
     "name": "stdout",
     "output_type": "stream",
     "text": [
      "24\n"
     ]
    }
   ],
   "source": [
    "#últimas posiciones\n",
    "print(arr[-1,-1,-1])"
   ]
  },
  {
   "cell_type": "code",
   "execution_count": 39,
   "metadata": {},
   "outputs": [
    {
     "name": "stdout",
     "output_type": "stream",
     "text": [
      "[4 5 6]\n"
     ]
    }
   ],
   "source": [
    "# posiciones 012\n",
    "print(arr[0,1,:])"
   ]
  },
  {
   "cell_type": "code",
   "execution_count": 40,
   "metadata": {},
   "outputs": [
    {
     "name": "stdout",
     "output_type": "stream",
     "text": [
      "[[ 1  2  3]\n",
      " [ 7  8  9]\n",
      " [13 14 15]\n",
      " [19 20 21]]\n"
     ]
    }
   ],
   "source": [
    "# coge todas las matrices, coge todas las primeras filas y coge todas las columnas\n",
    "print(arr[:,0,:])"
   ]
  },
  {
   "cell_type": "code",
   "execution_count": 41,
   "metadata": {},
   "outputs": [
    {
     "name": "stdout",
     "output_type": "stream",
     "text": [
      "[[ 3  6]\n",
      " [ 9 12]\n",
      " [15 18]\n",
      " [21 24]]\n",
      "[[ 3  6]\n",
      " [ 9 12]\n",
      " [15 18]\n",
      " [21 24]]\n"
     ]
    }
   ],
   "source": [
    "print(arr[:,:,-1])\n",
    "print(arr[:,:,2])"
   ]
  },
  {
   "cell_type": "code",
   "execution_count": 42,
   "metadata": {},
   "outputs": [
    {
     "name": "stdout",
     "output_type": "stream",
     "text": [
      "16\n"
     ]
    }
   ],
   "source": [
    "print(arr[2,1,0])"
   ]
  },
  {
   "cell_type": "code",
   "execution_count": 43,
   "metadata": {},
   "outputs": [
    {
     "data": {
      "text/plain": [
       "array([[[ 1,  2,  3],\n",
       "        [ 4,  5,  6]],\n",
       "\n",
       "       [[ 7,  8,  9],\n",
       "        [10, 11, 12]],\n",
       "\n",
       "       [[13, 14, 15],\n",
       "        [16, 17, 18]],\n",
       "\n",
       "       [[19, 20, 21],\n",
       "        [22, 23, 24]]])"
      ]
     },
     "execution_count": 43,
     "metadata": {},
     "output_type": "execute_result"
    }
   ],
   "source": [
    "arr"
   ]
  },
  {
   "cell_type": "code",
   "execution_count": 44,
   "metadata": {},
   "outputs": [
    {
     "name": "stdout",
     "output_type": "stream",
     "text": [
      "[[[ 1  2  3]\n",
      "  [ 4  5  6]]\n",
      "\n",
      " [[13 14 15]\n",
      "  [16 17 18]]]\n"
     ]
    }
   ],
   "source": [
    "print(arr[::2,:,:])"
   ]
  },
  {
   "cell_type": "code",
   "execution_count": 45,
   "metadata": {},
   "outputs": [],
   "source": [
    "#Ejercicio 4.\n",
    "#Crea un array de 3 x 3 que contenga valores aleatorios entre el 0 y el 100. Tendrás que usar el submódulo random.\n",
    "# Una vez tengas el código, transfórmalo a una función que te permita crear arrays de tamaño N x N"
   ]
  },
  {
   "cell_type": "code",
   "execution_count": 54,
   "metadata": {},
   "outputs": [
    {
     "data": {
      "text/plain": [
       "array([[86.40442316,  5.86326311,  3.06137564],\n",
       "       [ 0.35101603, 99.22556913, 93.40096853],\n",
       "       [42.02858345, 96.73819489, 43.79704066]])"
      ]
     },
     "execution_count": 54,
     "metadata": {},
     "output_type": "execute_result"
    }
   ],
   "source": [
    "arr3x3=np.random.random([3,3])*100\n",
    "arr3x3"
   ]
  },
  {
   "cell_type": "code",
   "execution_count": 70,
   "metadata": {},
   "outputs": [],
   "source": [
    "def ran_arr(n):\n",
    "    return np.random.random([n,n])*100"
   ]
  },
  {
   "cell_type": "code",
   "execution_count": 71,
   "metadata": {},
   "outputs": [
    {
     "data": {
      "text/plain": [
       "array([[85.21230179, 18.05911782, 83.81685629],\n",
       "       [ 7.15240643, 32.89032468, 22.09812165],\n",
       "       [79.82553143, 37.25945834, 11.30928095]])"
      ]
     },
     "execution_count": 71,
     "metadata": {},
     "output_type": "execute_result"
    }
   ],
   "source": [
    "a=3\n",
    "ran_arr(a)"
   ]
  },
  {
   "cell_type": "code",
   "execution_count": 78,
   "metadata": {},
   "outputs": [],
   "source": [
    "def ran_arr(n):\n",
    "    if n<=0:\n",
    "        return \"No válido\"\n",
    "    return np.random.random([n,n])*100"
   ]
  },
  {
   "cell_type": "code",
   "execution_count": 79,
   "metadata": {},
   "outputs": [
    {
     "data": {
      "text/plain": [
       "'No válido'"
      ]
     },
     "execution_count": 79,
     "metadata": {},
     "output_type": "execute_result"
    }
   ],
   "source": [
    "a=0\n",
    "ran_arr(a)"
   ]
  },
  {
   "cell_type": "code",
   "execution_count": 46,
   "metadata": {},
   "outputs": [],
   "source": [
    "#Ejercicio 5. Crea una función que dependa de un número. \n",
    "# Si la función se ejecuta con el número 5, debe devolver el siguiente array:\n",
    "# 1 1 1 1 1\n",
    "\n",
    "#1 0 0 0 1\n",
    "\n",
    "#1 0 0 0 1\n",
    "\n",
    "# 1 0 0 0 1\n",
    "\n",
    "# 1 1 1 1 1"
   ]
  },
  {
   "cell_type": "code",
   "execution_count": 88,
   "metadata": {},
   "outputs": [
    {
     "name": "stdout",
     "output_type": "stream",
     "text": [
      "[[1. 1. 1. 1. 1.]\n",
      " [1. 1. 1. 1. 1.]\n",
      " [1. 1. 1. 1. 1.]\n",
      " [1. 1. 1. 1. 1.]\n",
      " [1. 1. 1. 1. 1.]]\n",
      "[[0. 0. 0.]\n",
      " [0. 0. 0.]\n",
      " [0. 0. 0.]]\n"
     ]
    }
   ],
   "source": [
    "arr1=np.ones([5,5])\n",
    "arr0=np.zeros([3,3])\n",
    "print(arr1)\n",
    "print(arr0)\n"
   ]
  },
  {
   "cell_type": "code",
   "execution_count": 99,
   "metadata": {},
   "outputs": [
    {
     "name": "stdout",
     "output_type": "stream",
     "text": [
      "[[0. 0. 0.]\n",
      " [0. 0. 0.]\n",
      " [0. 0. 0.]]\n",
      "[[1. 1. 1. 1. 1.]\n",
      " [1. 0. 0. 0. 1.]\n",
      " [1. 0. 0. 0. 1.]\n",
      " [1. 0. 0. 0. 1.]\n",
      " [1. 1. 1. 1. 1.]]\n"
     ]
    }
   ],
   "source": [
    "# hay que posicionarse en la posición (1,1) hasta (3,3); 1:4 son ñas filas de la 1 a la 3, y de la columna 1 a 3\n",
    "arr0=arr1[1:4,1:4]\n",
    "print(arr0)\n",
    "print(arr1)"
   ]
  },
  {
   "cell_type": "code",
   "execution_count": 102,
   "metadata": {},
   "outputs": [],
   "source": [
    "def gen_01(n):\n",
    "    arr1=np.ones([n,n])\n",
    "    arr1[1:n-1,1:n-1]=0\n",
    "    return arr1"
   ]
  },
  {
   "cell_type": "code",
   "execution_count": 106,
   "metadata": {},
   "outputs": [
    {
     "data": {
      "text/plain": [
       "array([[1., 1., 1., 1., 1., 1., 1., 1., 1.],\n",
       "       [1., 0., 0., 0., 0., 0., 0., 0., 1.],\n",
       "       [1., 0., 0., 0., 0., 0., 0., 0., 1.],\n",
       "       [1., 0., 0., 0., 0., 0., 0., 0., 1.],\n",
       "       [1., 0., 0., 0., 0., 0., 0., 0., 1.],\n",
       "       [1., 0., 0., 0., 0., 0., 0., 0., 1.],\n",
       "       [1., 0., 0., 0., 0., 0., 0., 0., 1.],\n",
       "       [1., 0., 0., 0., 0., 0., 0., 0., 1.],\n",
       "       [1., 1., 1., 1., 1., 1., 1., 1., 1.]])"
      ]
     },
     "execution_count": 106,
     "metadata": {},
     "output_type": "execute_result"
    }
   ],
   "source": [
    "a=9\n",
    "gen_01(a)"
   ]
  },
  {
   "cell_type": "code",
   "execution_count": null,
   "metadata": {},
   "outputs": [],
   "source": [
    "def gen_cuadrado_1_0(n):\n",
    "    ones = np.ones([n,n])\n",
    "    ones[1:n-1,1:n-1] = 0\n",
    "\n",
    "    return ones\n",
    "\n",
    "print(gen_cuadrado_1_0(20))"
   ]
  },
  {
   "cell_type": "code",
   "execution_count": null,
   "metadata": {},
   "outputs": [],
   "source": [
    "#Ejercicio 6.Crea una función que te detecte las dimensiones de un array, \n",
    "# y te diga cuántos datos faltantes contiene. Crea unos datos de ejemplo para comprobarlo."
   ]
  },
  {
   "cell_type": "code",
   "execution_count": 136,
   "metadata": {},
   "outputs": [
    {
     "data": {
      "text/plain": [
       "array([[ 1.,  1.,  1.],\n",
       "       [ 1., nan,  1.],\n",
       "       [nan,  1.,  1.]])"
      ]
     },
     "execution_count": 136,
     "metadata": {},
     "output_type": "execute_result"
    }
   ],
   "source": [
    "arr_na = np.ones([3,3])\n",
    "arr_na[1,1] = np.nan\n",
    "arr_na[2,0] = np.nan\n",
    "arr_na"
   ]
  },
  {
   "cell_type": "code",
   "execution_count": 137,
   "metadata": {},
   "outputs": [
    {
     "data": {
      "text/plain": [
       "array([[False, False, False],\n",
       "       [False,  True, False],\n",
       "       [ True, False, False]])"
      ]
     },
     "execution_count": 137,
     "metadata": {},
     "output_type": "execute_result"
    }
   ],
   "source": [
    "np.isnan(arr_na)"
   ]
  },
  {
   "cell_type": "code",
   "execution_count": 138,
   "metadata": {},
   "outputs": [
    {
     "data": {
      "text/plain": [
       "2"
      ]
     },
     "execution_count": 138,
     "metadata": {},
     "output_type": "execute_result"
    }
   ],
   "source": [
    "np.sum(np.isnan(arr_na))"
   ]
  },
  {
   "cell_type": "code",
   "execution_count": 139,
   "metadata": {},
   "outputs": [
    {
     "data": {
      "text/plain": [
       "array([1, 1, 0])"
      ]
     },
     "execution_count": 139,
     "metadata": {},
     "output_type": "execute_result"
    }
   ],
   "source": [
    "sum(np.isnan(arr_na))"
   ]
  },
  {
   "cell_type": "code",
   "execution_count": 140,
   "metadata": {},
   "outputs": [
    {
     "data": {
      "text/plain": [
       "array([ 1.,  1.,  1.,  1., nan,  1., nan,  1.,  1.])"
      ]
     },
     "execution_count": 140,
     "metadata": {},
     "output_type": "execute_result"
    }
   ],
   "source": [
    "#flatten para aplanar matriz\n",
    "arr_na.flatten()"
   ]
  },
  {
   "cell_type": "code",
   "execution_count": 143,
   "metadata": {},
   "outputs": [
    {
     "data": {
      "text/plain": [
       "array([False, False, False, False,  True, False,  True, False, False])"
      ]
     },
     "execution_count": 143,
     "metadata": {},
     "output_type": "execute_result"
    }
   ],
   "source": [
    "np.isnan((arr_na.flatten()))"
   ]
  },
  {
   "cell_type": "code",
   "execution_count": 144,
   "metadata": {},
   "outputs": [
    {
     "data": {
      "text/plain": [
       "2"
      ]
     },
     "execution_count": 144,
     "metadata": {},
     "output_type": "execute_result"
    }
   ],
   "source": [
    "sum(np.isnan((arr_na.flatten())))"
   ]
  },
  {
   "cell_type": "code",
   "execution_count": 148,
   "metadata": {},
   "outputs": [],
   "source": [
    "def f(arr):\n",
    "    arr_na2={'dimensión':arr.ndim,'nam':sum(np.isnan((arr_na.flatten())))}\n",
    "    return arr_na2\n",
    "    "
   ]
  },
  {
   "cell_type": "code",
   "execution_count": 152,
   "metadata": {},
   "outputs": [
    {
     "data": {
      "text/plain": [
       "{'dimensión': 2, 'nam': 2}"
      ]
     },
     "execution_count": 152,
     "metadata": {},
     "output_type": "execute_result"
    }
   ],
   "source": [
    "a=arr_na\n",
    "f(a)"
   ]
  },
  {
   "cell_type": "code",
   "execution_count": null,
   "metadata": {},
   "outputs": [],
   "source": [
    "#Ejercicio 7. Crea una función que te calcule los márgenes de una tabla, es decir, \n",
    "# la suma por columnas, la suma por filas y el total. Idealmente, añadelo a la tabla original"
   ]
  },
  {
   "cell_type": "code",
   "execution_count": 155,
   "metadata": {},
   "outputs": [
    {
     "data": {
      "text/plain": [
       "array([[3, 2, 1, 2],\n",
       "       [6, 7, 9, 5]])"
      ]
     },
     "execution_count": 155,
     "metadata": {},
     "output_type": "execute_result"
    }
   ],
   "source": [
    "arr7 = np.array([[3,2,1,2],[6,7,9,5]])\n",
    "arr7"
   ]
  },
  {
   "cell_type": "code",
   "execution_count": 157,
   "metadata": {},
   "outputs": [
    {
     "data": {
      "text/plain": [
       "35"
      ]
     },
     "execution_count": 157,
     "metadata": {},
     "output_type": "execute_result"
    }
   ],
   "source": [
    "np.sum(arr7)"
   ]
  },
  {
   "cell_type": "code",
   "execution_count": 159,
   "metadata": {},
   "outputs": [
    {
     "data": {
      "text/plain": [
       "35"
      ]
     },
     "execution_count": 159,
     "metadata": {},
     "output_type": "execute_result"
    }
   ],
   "source": [
    "sum(arr7.flatten())"
   ]
  },
  {
   "cell_type": "code",
   "execution_count": 169,
   "metadata": {},
   "outputs": [
    {
     "data": {
      "text/plain": [
       "array([[3, 2, 1, 2],\n",
       "       [6, 7, 9, 5]])"
      ]
     },
     "execution_count": 169,
     "metadata": {},
     "output_type": "execute_result"
    }
   ],
   "source": [
    "arr7\n",
    "# [3,2,1,2,8]\n",
    "# [6,7,9,5,27]\n",
    "# [9,9,10,7,35]"
   ]
  },
  {
   "cell_type": "code",
   "execution_count": 203,
   "metadata": {},
   "outputs": [
    {
     "name": "stdout",
     "output_type": "stream",
     "text": [
      "[ 8 27]\n",
      "[ 9  9 10  7]\n",
      "[35]\n"
     ]
    }
   ],
   "source": [
    "sum1=(np.sum(arr7,axis=1))\n",
    "sum2=(np.sum(arr7,axis=0))\n",
    "sumt=np.array([np.sum(arr7)])\n",
    "print(sum1)\n",
    "print(sum2)\n",
    "print(sumt)"
   ]
  },
  {
   "cell_type": "code",
   "execution_count": 202,
   "metadata": {},
   "outputs": [
    {
     "name": "stdout",
     "output_type": "stream",
     "text": [
      "[[ 8]\n",
      " [27]]\n",
      "[[ 8]\n",
      " [27]\n",
      " [35]]\n"
     ]
    }
   ],
   "source": [
    "sum11=sum1.reshape(2,1)\n",
    "print(sum11)\n",
    "sumtt=np.vstack((sum11,sumt))\n",
    "print(sumtt)"
   ]
  },
  {
   "cell_type": "code",
   "execution_count": 204,
   "metadata": {},
   "outputs": [
    {
     "data": {
      "text/plain": [
       "array([[3, 2, 1, 2],\n",
       "       [6, 7, 9, 5]])"
      ]
     },
     "execution_count": 204,
     "metadata": {},
     "output_type": "execute_result"
    }
   ],
   "source": [
    "arr7"
   ]
  },
  {
   "cell_type": "code",
   "execution_count": 214,
   "metadata": {},
   "outputs": [
    {
     "name": "stdout",
     "output_type": "stream",
     "text": [
      "[[ 3  2  1  2]\n",
      " [ 6  7  9  5]\n",
      " [ 9  9 10  7]]\n",
      "[[ 3  2  1  2  8]\n",
      " [ 6  7  9  5 27]\n",
      " [ 9  9 10  7 35]]\n"
     ]
    }
   ],
   "source": [
    "arrh=np.vstack((arr7,sum2)) #vstack añade una fila\n",
    "print(arrh)\n",
    "arrv=np.hstack((arrh,sumtt)) #hstack añade una columna\n",
    "print(arrv)"
   ]
  },
  {
   "cell_type": "code",
   "execution_count": 215,
   "metadata": {},
   "outputs": [],
   "source": [
    "def matriz(arr): #ponemos todos los conceptos\n",
    "    sum1=(np.sum(arr,axis=1))\n",
    "    sum2=(np.sum(arr,axis=0))\n",
    "    sumt=np.array([np.sum(arr)])\n",
    "    sum11=sum1.reshape(2,1)\n",
    "    sumtt=np.vstack((sum11,sumt))\n",
    "    arrh=np.vstack((arr,sum2)) \n",
    "    arrv=np.hstack((arrh,sumtt))\n",
    "    return arrv\n",
    "    "
   ]
  },
  {
   "cell_type": "code",
   "execution_count": 216,
   "metadata": {},
   "outputs": [
    {
     "data": {
      "text/plain": [
       "array([[ 3,  2,  1,  2,  8],\n",
       "       [ 6,  7,  9,  5, 27],\n",
       "       [ 9,  9, 10,  7, 35]])"
      ]
     },
     "execution_count": 216,
     "metadata": {},
     "output_type": "execute_result"
    }
   ],
   "source": [
    "matriz(arr7)"
   ]
  },
  {
   "cell_type": "code",
   "execution_count": 217,
   "metadata": {},
   "outputs": [],
   "source": [
    "#Ejercicio 8.\n",
    "#Crea una función que dados dos arrays X e Y,\n",
    "# te calcule el coeficiente de correlación entre ellos usando la siguiente fórmula"
   ]
  },
  {
   "cell_type": "code",
   "execution_count": 218,
   "metadata": {},
   "outputs": [],
   "source": [
    "x = np.array([2,3,4,6,7,8,9,7])\n",
    "y = np.array([5,6,8,5,10,8,9,5])\n",
    "\n",
    "# corr: -1 , 1 (0,75)"
   ]
  },
  {
   "cell_type": "code",
   "execution_count": 219,
   "metadata": {},
   "outputs": [],
   "source": [
    "media_x = np.mean(x)\n",
    "media_y = np.mean(y)"
   ]
  },
  {
   "cell_type": "code",
   "execution_count": 221,
   "metadata": {},
   "outputs": [
    {
     "data": {
      "text/plain": [
       "18.0"
      ]
     },
     "execution_count": 221,
     "metadata": {},
     "output_type": "execute_result"
    }
   ],
   "source": [
    "numerador = np.sum((x-media_x)*(y-media_y))\n",
    "numerador"
   ]
  },
  {
   "cell_type": "code",
   "execution_count": 222,
   "metadata": {},
   "outputs": [
    {
     "data": {
      "text/plain": [
       "34.8998567332303"
      ]
     },
     "execution_count": 222,
     "metadata": {},
     "output_type": "execute_result"
    }
   ],
   "source": [
    "denominador = np.sqrt(np.sum((x-media_x)**2)) * np.sqrt(np.sum((y-media_y)**2))\n",
    "denominador"
   ]
  },
  {
   "cell_type": "code",
   "execution_count": 223,
   "metadata": {},
   "outputs": [
    {
     "data": {
      "text/plain": [
       "0.5157614295551275"
      ]
     },
     "execution_count": 223,
     "metadata": {},
     "output_type": "execute_result"
    }
   ],
   "source": [
    "corr = numerador/denominador\n",
    "corr"
   ]
  },
  {
   "cell_type": "code",
   "execution_count": 228,
   "metadata": {},
   "outputs": [],
   "source": [
    "def coef_corr(x, y):\n",
    "    if (x.ndim != 1 or y.ndim != 1) and (len(x) != len(y)):\n",
    "        return 'x e y deben ser de 1 dim y misma longitud'\n",
    "\n",
    "    media_x = np.mean(x)\n",
    "    media_y = np.mean(y)\n",
    "    numerador = np.sum((x-media_x)*(y-media_y))\n",
    "    denominador = np.sqrt(np.sum((x-media_x)**2)) * \\\n",
    "        np.sqrt(np.sum((y-media_y)**2))\n",
    "\n",
    "    if denominador == 0:\n",
    "        return 'Error, denominador 0'\n",
    "\n",
    "    corr = numerador/denominador\n",
    "\n",
    "    return corr"
   ]
  },
  {
   "cell_type": "code",
   "execution_count": 225,
   "metadata": {},
   "outputs": [
    {
     "data": {
      "text/plain": [
       "0.5157614295551275"
      ]
     },
     "execution_count": 225,
     "metadata": {},
     "output_type": "execute_result"
    }
   ],
   "source": [
    "coef_corr(x,y)"
   ]
  }
 ],
 "metadata": {
  "kernelspec": {
   "display_name": "Python 3.8 - AzureML",
   "language": "python",
   "name": "python38-azureml"
  }
 },
 "nbformat": 4,
 "nbformat_minor": 2
}
