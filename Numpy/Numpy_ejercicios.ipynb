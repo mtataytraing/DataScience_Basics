{
 "cells": [
  {
   "cell_type": "code",
   "execution_count": 44,
   "metadata": {},
   "outputs": [],
   "source": [
    "#numpy ejercicios"
   ]
  },
  {
   "cell_type": "code",
   "execution_count": 45,
   "metadata": {},
   "outputs": [],
   "source": [
    "import numpy as np"
   ]
  },
  {
   "cell_type": "code",
   "execution_count": 46,
   "metadata": {},
   "outputs": [],
   "source": [
    "#Ejercicio 1\n",
    "#Crea arrays de 1, 2 y 3 dimensiones. Las longitudes deben ser las siguientes, respectivamente: 6, 3 x 2 y 2 x 3 x 4"
   ]
  },
  {
   "cell_type": "code",
   "execution_count": 47,
   "metadata": {},
   "outputs": [
    {
     "name": "stdout",
     "output_type": "stream",
     "text": [
      "[0.09583211 0.95519981 0.90497859 0.64518743 0.6382893  0.16021979]\n",
      "(6,)\n",
      "1\n"
     ]
    }
   ],
   "source": [
    "arr1=np.array(np.random.random(6))\n",
    "print(arr1)\n",
    "print(arr1.shape)\n",
    "print(arr1.ndim)\n"
   ]
  },
  {
   "cell_type": "code",
   "execution_count": 48,
   "metadata": {},
   "outputs": [
    {
     "name": "stdout",
     "output_type": "stream",
     "text": [
      "[[0.46544715 0.95925887 0.12126251]\n",
      " [0.81724904 0.81143752 0.06402209]]\n",
      "(2, 3)\n",
      "2\n"
     ]
    }
   ],
   "source": [
    "arr2=np.array(np.random.random([2,3]))\n",
    "print(arr2)\n",
    "print(arr2.shape)\n",
    "print(arr2.ndim)"
   ]
  },
  {
   "cell_type": "code",
   "execution_count": 49,
   "metadata": {},
   "outputs": [
    {
     "name": "stdout",
     "output_type": "stream",
     "text": [
      "[[[0.70061636 0.50297216 0.84018152 0.2144497 ]\n",
      "  [0.38340986 0.95814737 0.07281963 0.7286312 ]]\n",
      "\n",
      " [[0.77141202 0.34291843 0.58394787 0.87288268]\n",
      "  [0.43655606 0.25610065 0.36156224 0.50440004]]\n",
      "\n",
      " [[0.50350502 0.90996551 0.76456571 0.12686076]\n",
      "  [0.41597927 0.85863872 0.02419665 0.10157126]]]\n",
      "(3, 2, 4)\n",
      "3\n"
     ]
    }
   ],
   "source": [
    "arr3=np.array(np.random.random([3,2,4]))\n",
    "print(arr3)\n",
    "print(arr3.shape)\n",
    "print(arr3.ndim)"
   ]
  },
  {
   "cell_type": "code",
   "execution_count": 50,
   "metadata": {},
   "outputs": [
    {
     "name": "stdout",
     "output_type": "stream",
     "text": [
      "[1 2 3 3 5 6]\n",
      "(6,)\n",
      "1\n"
     ]
    }
   ],
   "source": [
    "arr11=np.array([1,2,3,3,5,6])\n",
    "print(arr11)\n",
    "print(arr11.shape)\n",
    "print(arr11.ndim)"
   ]
  },
  {
   "cell_type": "code",
   "execution_count": 51,
   "metadata": {},
   "outputs": [
    {
     "name": "stdout",
     "output_type": "stream",
     "text": [
      "[[1 2 3]\n",
      " [5 6 7]]\n",
      "(2, 3)\n",
      "2\n"
     ]
    }
   ],
   "source": [
    "# 1 matriz de 2 filas y 3 columnas\n",
    "arr22=np.array([[1,2,3],[5,6,7]])\n",
    "print(arr22)\n",
    "print(arr22.shape)\n",
    "print(arr22.ndim)"
   ]
  },
  {
   "cell_type": "code",
   "execution_count": 52,
   "metadata": {},
   "outputs": [
    {
     "name": "stdout",
     "output_type": "stream",
     "text": [
      "[[[1 2 3 4]\n",
      "  [5 6 7 4]]\n",
      "\n",
      " [[1 2 3 5]\n",
      "  [5 6 7 7]]\n",
      "\n",
      " [[1 2 3 5]\n",
      "  [5 6 6 7]]]\n",
      "(3, 2, 4)\n",
      "3\n"
     ]
    }
   ],
   "source": [
    "# 3x2x4 3 matrices de 2 filas y y columnas\n",
    "arr22=np.array([[[1,2,3,4],[5,6,7,4]],[[1,2,3,5],[5,6,7,7]],[[1,2,3,5],[5,6,6,7]]])\n",
    "print(arr22)\n",
    "print(arr22.shape)\n",
    "print(arr22.ndim)"
   ]
  },
  {
   "cell_type": "code",
   "execution_count": 53,
   "metadata": {},
   "outputs": [],
   "source": [
    "# Ejercicio 2.\n",
    "#Crea una función que te haga un resumen estadístico básico de un array (cuartiles, mediana, media, varianza, etc) \n",
    "# si tiene una dimensión. Si tiene más de una, muestra un mensaje de alerta."
   ]
  },
  {
   "cell_type": "code",
   "execution_count": null,
   "metadata": {},
   "outputs": [],
   "source": []
  },
  {
   "cell_type": "code",
   "execution_count": 54,
   "metadata": {},
   "outputs": [],
   "source": [
    "#Ejercicio 3.\n",
    "#Crea un array de 3 dimensiones parecido al que te doy a continuación, y sin ejecutar las instrucciones siguientes,\n",
    "# intenta razonar qué números devolverán (si funcionan, claro)"
   ]
  },
  {
   "cell_type": "code",
   "execution_count": 55,
   "metadata": {},
   "outputs": [],
   "source": [
    "#Ejercicio 4.\n",
    "#Crea un array de 3 x 3 que contenga valores aleatorios entre el 0 y el 100. \n",
    "# Tendrás que usar el submódulo random. Una vez tengas el código, \n",
    "# transfórmalo a una función que te permita crear arrays de tamaño N x N"
   ]
  },
  {
   "cell_type": "code",
   "execution_count": 56,
   "metadata": {},
   "outputs": [],
   "source": [
    "#Ejercicio 5.\n",
    "#Crea una función que dependa de un número. Si la función se ejecuta con el número 5, debe devolver el siguiente array:\n",
    "# 1 1 1 1 1\n",
    "\n",
    "#1 0 0 0 1\n",
    "\n",
    "#1 0 0 0 1\n",
    "\n",
    "# 1 0 0 0 1\n",
    "\n",
    "# 1 1 1 1 1"
   ]
  }
 ],
 "metadata": {
  "kernelspec": {
   "display_name": "Python 3.8 - AzureML",
   "language": "python",
   "name": "python38-azureml"
  },
  "language_info": {
   "codemirror_mode": {
    "name": "ipython",
    "version": 3
   },
   "file_extension": ".py",
   "mimetype": "text/x-python",
   "name": "python",
   "nbconvert_exporter": "python",
   "pygments_lexer": "ipython3",
   "version": "3.10.11"
  }
 },
 "nbformat": 4,
 "nbformat_minor": 2
}
