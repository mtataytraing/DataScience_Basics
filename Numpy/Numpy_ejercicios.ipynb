{
 "cells": [
  {
   "cell_type": "code",
   "execution_count": 101,
   "metadata": {},
   "outputs": [],
   "source": [
    "#numpy ejercicios"
   ]
  },
  {
   "cell_type": "code",
   "execution_count": 102,
   "metadata": {},
   "outputs": [],
   "source": [
    "import numpy as np"
   ]
  },
  {
   "cell_type": "code",
   "execution_count": 103,
   "metadata": {},
   "outputs": [],
   "source": [
    "#Ejercicio 1\n",
    "#Crea arrays de 1, 2 y 3 dimensiones. Las longitudes deben ser las siguientes, respectivamente: 6, 3 x 2 y 2 x 3 x 4"
   ]
  },
  {
   "cell_type": "code",
   "execution_count": 104,
   "metadata": {},
   "outputs": [
    {
     "name": "stdout",
     "output_type": "stream",
     "text": [
      "[0.49635903 0.76988629 0.29325542 0.70150487 0.83022982 0.72394391]\n",
      "(6,)\n",
      "1\n"
     ]
    }
   ],
   "source": [
    "arr1=np.array(np.random.random(6))\n",
    "print(arr1)\n",
    "print(arr1.shape)\n",
    "print(arr1.ndim)\n"
   ]
  },
  {
   "cell_type": "code",
   "execution_count": 105,
   "metadata": {},
   "outputs": [
    {
     "name": "stdout",
     "output_type": "stream",
     "text": [
      "[[0.25863082 0.03858872 0.23481848]\n",
      " [0.19983787 0.70542121 0.59833726]]\n",
      "(2, 3)\n",
      "2\n"
     ]
    }
   ],
   "source": [
    "arr2=np.array(np.random.random([2,3]))\n",
    "print(arr2)\n",
    "print(arr2.shape)\n",
    "print(arr2.ndim)"
   ]
  },
  {
   "cell_type": "code",
   "execution_count": 106,
   "metadata": {},
   "outputs": [
    {
     "name": "stdout",
     "output_type": "stream",
     "text": [
      "[[[0.25848748 0.14705802 0.93989503 0.23089992]\n",
      "  [0.56207232 0.40700523 0.82922641 0.99899991]]\n",
      "\n",
      " [[0.05298059 0.08929522 0.09511085 0.44864486]\n",
      "  [0.55546723 0.06215446 0.55731527 0.36245372]]\n",
      "\n",
      " [[0.96934539 0.09476062 0.31042705 0.56034279]\n",
      "  [0.52668917 0.87108764 0.81808219 0.14685097]]]\n",
      "(3, 2, 4)\n",
      "3\n"
     ]
    }
   ],
   "source": [
    "arr3=np.array(np.random.random([3,2,4]))\n",
    "print(arr3)\n",
    "print(arr3.shape)\n",
    "print(arr3.ndim)"
   ]
  },
  {
   "cell_type": "code",
   "execution_count": 107,
   "metadata": {},
   "outputs": [
    {
     "name": "stdout",
     "output_type": "stream",
     "text": [
      "[1 2 3 3 5 6]\n",
      "(6,)\n",
      "1\n"
     ]
    }
   ],
   "source": [
    "arr11=np.array([1,2,3,3,5,6])\n",
    "print(arr11)\n",
    "print(arr11.shape)\n",
    "print(arr11.ndim)"
   ]
  },
  {
   "cell_type": "code",
   "execution_count": 108,
   "metadata": {},
   "outputs": [
    {
     "name": "stdout",
     "output_type": "stream",
     "text": [
      "[[1 2 3]\n",
      " [5 6 7]]\n",
      "(2, 3)\n",
      "2\n"
     ]
    }
   ],
   "source": [
    "# 1 matriz de 2 filas y 3 columnas\n",
    "arr22=np.array([[1,2,3],[5,6,7]])\n",
    "print(arr22)\n",
    "print(arr22.shape)\n",
    "print(arr22.ndim)"
   ]
  },
  {
   "cell_type": "code",
   "execution_count": 109,
   "metadata": {},
   "outputs": [
    {
     "name": "stdout",
     "output_type": "stream",
     "text": [
      "[[[1 2 3 4]\n",
      "  [5 6 7 4]]\n",
      "\n",
      " [[1 2 3 5]\n",
      "  [5 6 7 7]]\n",
      "\n",
      " [[1 2 3 5]\n",
      "  [5 6 6 7]]]\n",
      "(3, 2, 4)\n",
      "3\n"
     ]
    }
   ],
   "source": [
    "# 3x2x4 3 matrices de 2 filas y y columnas\n",
    "arr22=np.array([[[1,2,3,4],[5,6,7,4]],[[1,2,3,5],[5,6,7,7]],[[1,2,3,5],[5,6,6,7]]])\n",
    "print(arr22)\n",
    "print(arr22.shape)\n",
    "print(arr22.ndim)"
   ]
  },
  {
   "cell_type": "code",
   "execution_count": 110,
   "metadata": {},
   "outputs": [],
   "source": [
    "# Ejercicio 2.\n",
    "#Crea una función que te haga un resumen estadístico básico de un array (cuartiles, mediana, media, varianza, etc) \n",
    "# si tiene una dimensión. Si tiene más de una, muestra un mensaje de alerta."
   ]
  },
  {
   "cell_type": "code",
   "execution_count": 113,
   "metadata": {},
   "outputs": [],
   "source": [
    "# con el return, se para; si pongo print sigue la función sea true o false\n",
    "def f(arr1):\n",
    "    if arr1.ndim>1:\n",
    "        return (\"El array debe ser de más de una dimensión\")\n",
    "    res={\n",
    "        'media':np.mean(arr1),\n",
    "        'desviación':np.std(arr1),\n",
    "        'percentil50':np.percentile(arr1,50)}\n",
    "    return res"
   ]
  },
  {
   "cell_type": "code",
   "execution_count": 114,
   "metadata": {},
   "outputs": [
    {
     "name": "stdout",
     "output_type": "stream",
     "text": [
      "{'media': 0.6358632242821148, 'desviación': 0.18468401660037687, 'percentil50': 0.7127243899671392}\n"
     ]
    }
   ],
   "source": [
    "print(f(arr1))"
   ]
  },
  {
   "cell_type": "code",
   "execution_count": 54,
   "metadata": {},
   "outputs": [],
   "source": [
    "#Ejercicio 3.\n",
    "#Crea un array de 3 dimensiones parecido al que te doy a continuación, y sin ejecutar las instrucciones siguientes,\n",
    "# intenta razonar qué números devolverán (si funcionan, claro)"
   ]
  },
  {
   "cell_type": "code",
   "execution_count": 116,
   "metadata": {},
   "outputs": [
    {
     "data": {
      "text/plain": [
       "array([[[ 1,  2,  3],\n",
       "        [ 4,  5,  6]],\n",
       "\n",
       "       [[ 7,  8,  9],\n",
       "        [10, 11, 12]],\n",
       "\n",
       "       [[13, 14, 15],\n",
       "        [16, 17, 18]],\n",
       "\n",
       "       [[19, 20, 21],\n",
       "        [22, 23, 24]]])"
      ]
     },
     "execution_count": 116,
     "metadata": {},
     "output_type": "execute_result"
    }
   ],
   "source": [
    "arr = np.array([[[1, 2, 3], [4, 5, 6]], [[7, 8, 9], [10, 11, 12]], [[13, 14, 15],[16, 17, 18]], [[19, 20, 21],[22, 23, 24]] ])\n",
    "arr\n",
    "\n",
    "#4x2x3\n"
   ]
  },
  {
   "cell_type": "code",
   "execution_count": 118,
   "metadata": {},
   "outputs": [
    {
     "name": "stdout",
     "output_type": "stream",
     "text": [
      "24\n"
     ]
    }
   ],
   "source": [
    "#últimas posiciones\n",
    "print(arr[-1,-1,-1])"
   ]
  },
  {
   "cell_type": "code",
   "execution_count": 119,
   "metadata": {},
   "outputs": [
    {
     "name": "stdout",
     "output_type": "stream",
     "text": [
      "[4 5 6]\n"
     ]
    }
   ],
   "source": [
    "# posiciones 012\n",
    "print(arr[0,1,:])"
   ]
  },
  {
   "cell_type": "code",
   "execution_count": null,
   "metadata": {},
   "outputs": [
    {
     "name": "stdout",
     "output_type": "stream",
     "text": [
      "[[ 1  2  3]\n",
      " [ 7  8  9]\n",
      " [13 14 15]\n",
      " [19 20 21]]\n"
     ]
    }
   ],
   "source": [
    "# coge todas las matrices, coge todas las primeras filas y coge todas las columnas\n",
    "print(arr[:,0,:])"
   ]
  },
  {
   "cell_type": "code",
   "execution_count": 124,
   "metadata": {},
   "outputs": [
    {
     "name": "stdout",
     "output_type": "stream",
     "text": [
      "[[ 3  6]\n",
      " [ 9 12]\n",
      " [15 18]\n",
      " [21 24]]\n",
      "[[ 3  6]\n",
      " [ 9 12]\n",
      " [15 18]\n",
      " [21 24]]\n"
     ]
    }
   ],
   "source": [
    "print(arr[:,:,-1])\n",
    "print(arr[:,:,2])"
   ]
  },
  {
   "cell_type": "code",
   "execution_count": 125,
   "metadata": {},
   "outputs": [
    {
     "name": "stdout",
     "output_type": "stream",
     "text": [
      "16\n"
     ]
    }
   ],
   "source": [
    "print(arr[2,1,0])"
   ]
  },
  {
   "cell_type": "code",
   "execution_count": 127,
   "metadata": {},
   "outputs": [
    {
     "data": {
      "text/plain": [
       "array([[[ 1,  2,  3],\n",
       "        [ 4,  5,  6]],\n",
       "\n",
       "       [[ 7,  8,  9],\n",
       "        [10, 11, 12]],\n",
       "\n",
       "       [[13, 14, 15],\n",
       "        [16, 17, 18]],\n",
       "\n",
       "       [[19, 20, 21],\n",
       "        [22, 23, 24]]])"
      ]
     },
     "execution_count": 127,
     "metadata": {},
     "output_type": "execute_result"
    }
   ],
   "source": [
    "arr"
   ]
  },
  {
   "cell_type": "code",
   "execution_count": 126,
   "metadata": {},
   "outputs": [
    {
     "name": "stdout",
     "output_type": "stream",
     "text": [
      "[[[ 1  2  3]\n",
      "  [ 4  5  6]]\n",
      "\n",
      " [[13 14 15]\n",
      "  [16 17 18]]]\n"
     ]
    }
   ],
   "source": [
    "print(arr[::2,:,:])"
   ]
  },
  {
   "cell_type": "code",
   "execution_count": 55,
   "metadata": {},
   "outputs": [],
   "source": [
    "#Ejercicio 4.\n",
    "#Crea un array de 3 x 3 que contenga valores aleatorios entre el 0 y el 100. \n",
    "# Tendrás que usar el submódulo random. Una vez tengas el código, \n",
    "# transfórmalo a una función que te permita crear arrays de tamaño N x N"
   ]
  },
  {
   "cell_type": "code",
   "execution_count": 56,
   "metadata": {},
   "outputs": [],
   "source": [
    "#Ejercicio 5.\n",
    "#Crea una función que dependa de un número. Si la función se ejecuta con el número 5, debe devolver el siguiente array:\n",
    "# 1 1 1 1 1\n",
    "\n",
    "#1 0 0 0 1\n",
    "\n",
    "#1 0 0 0 1\n",
    "\n",
    "# 1 0 0 0 1\n",
    "\n",
    "# 1 1 1 1 1"
   ]
  }
 ],
 "metadata": {
  "kernelspec": {
   "display_name": "Python 3.8 - AzureML",
   "language": "python",
   "name": "python38-azureml"
  }
 },
 "nbformat": 4,
 "nbformat_minor": 2
}
