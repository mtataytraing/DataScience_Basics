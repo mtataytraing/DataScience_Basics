{
 "cells": [
  {
   "cell_type": "code",
   "execution_count": null,
   "metadata": {},
   "outputs": [],
   "source": [
    "#numpy ejercicios"
   ]
  },
  {
   "cell_type": "code",
   "execution_count": null,
   "metadata": {},
   "outputs": [],
   "source": [
    "#Ejercicio 1\n",
    "#Crea arrays de 1, 2 y 3 dimensiones. Las longitudes deben ser las siguientes, respectivamente: 6, 3 x 2 y 2 x 3 x 4"
   ]
  },
  {
   "cell_type": "code",
   "execution_count": null,
   "metadata": {},
   "outputs": [],
   "source": []
  },
  {
   "cell_type": "code",
   "execution_count": null,
   "metadata": {},
   "outputs": [],
   "source": [
    "# Ejercicio 2.\n",
    "#Crea una función que te haga un resumen estadístico básico de un array (cuartiles, mediana, media, varianza, etc) \n",
    "# si tiene una dimensión. Si tiene más de una, muestra un mensaje de alerta."
   ]
  },
  {
   "cell_type": "code",
   "execution_count": null,
   "metadata": {},
   "outputs": [],
   "source": []
  },
  {
   "cell_type": "code",
   "execution_count": null,
   "metadata": {},
   "outputs": [],
   "source": [
    "#Ejercicio 3.\n",
    "#Crea un array de 3 dimensiones parecido al que te doy a continuación, y sin ejecutar las instrucciones siguientes,\n",
    "# intenta razonar qué números devolverán (si funcionan, claro)"
   ]
  },
  {
   "cell_type": "code",
   "execution_count": null,
   "metadata": {},
   "outputs": [],
   "source": [
    "#Ejercicio 4.\n",
    "#Crea un array de 3 x 3 que contenga valores aleatorios entre el 0 y el 100. \n",
    "# Tendrás que usar el submódulo random. Una vez tengas el código, \n",
    "# transfórmalo a una función que te permita crear arrays de tamaño N x N"
   ]
  },
  {
   "cell_type": "code",
   "execution_count": null,
   "metadata": {},
   "outputs": [],
   "source": [
    "#Ejercicio 5.\n",
    "#Crea una función que dependa de un número. Si la función se ejecuta con el número 5, debe devolver el siguiente array:\n",
    "# 1 1 1 1 1\n",
    "\n",
    "#1 0 0 0 1\n",
    "\n",
    "#1 0 0 0 1\n",
    "\n",
    "# 1 0 0 0 1\n",
    "\n",
    "# 1 1 1 1 1"
   ]
  }
 ],
 "metadata": {
  "language_info": {
   "name": "python"
  }
 },
 "nbformat": 4,
 "nbformat_minor": 2
}
